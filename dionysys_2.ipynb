{
 "cells": [
  {
   "cell_type": "markdown",
   "metadata": {},
   "source": [
    "#### Zigzag Persistence"
   ]
  },
  {
   "cell_type": "markdown",
   "metadata": {},
   "source": [
    "https://mrzv.org/software/dionysus2/"
   ]
  },
  {
   "cell_type": "code",
   "execution_count": 2,
   "metadata": {},
   "outputs": [],
   "source": [
    "import dionysus as d"
   ]
  },
  {
   "cell_type": "code",
   "execution_count": 3,
   "metadata": {},
   "outputs": [],
   "source": [
    "f = d.Filtration([[0], [1], [0,1], [2], [0,2], [1,2]])"
   ]
  },
  {
   "cell_type": "code",
   "execution_count": 5,
   "metadata": {},
   "outputs": [],
   "source": [
    "times = [[.4, .6, .7], [.1], [.9], [.9], [.9], [.9]]"
   ]
  },
  {
   "cell_type": "code",
   "execution_count": 7,
   "metadata": {},
   "outputs": [],
   "source": [
    "zz, dgms, cells = d.zigzag_homology_persistence(f, times)"
   ]
  },
  {
   "cell_type": "code",
   "execution_count": 8,
   "metadata": {},
   "outputs": [
    {
     "name": "stdout",
     "output_type": "stream",
     "text": [
      "Zigzag persistence with 2 alive cycles\n"
     ]
    }
   ],
   "source": [
    "print(zz)"
   ]
  },
  {
   "cell_type": "code",
   "execution_count": 9,
   "metadata": {},
   "outputs": [
    {
     "name": "stdout",
     "output_type": "stream",
     "text": [
      "Dimension: 0\n",
      "(0.4,0.6)\n",
      "(0.7,0.9)\n",
      "(0.1,inf)\n",
      "Dimension: 1\n",
      "(0.9,inf)\n"
     ]
    }
   ],
   "source": [
    "for i,dgm in enumerate(dgms):\n",
    "    print(\"Dimension:\", i)\n",
    "    for p in dgm:\n",
    "        print(p)"
   ]
  },
  {
   "cell_type": "code",
   "execution_count": 10,
   "metadata": {},
   "outputs": [
    {
     "name": "stdout",
     "output_type": "stream",
     "text": [
      "1*0\n",
      "1*4 + 1*5 + 1*6\n"
     ]
    }
   ],
   "source": [
    "for z in zz:\n",
    "    print(z)"
   ]
  },
  {
   "cell_type": "code",
   "execution_count": 11,
   "metadata": {},
   "outputs": [
    {
     "name": "stdout",
     "output_type": "stream",
     "text": [
      "(0, 1)\n",
      "(2, 0)\n",
      "(3, 3)\n",
      "(4, 2)\n",
      "(5, 4)\n",
      "(6, 5)\n"
     ]
    }
   ],
   "source": [
    "for x in sorted(cells):\n",
    "    print(x)"
   ]
  },
  {
   "cell_type": "code",
   "execution_count": 12,
   "metadata": {},
   "outputs": [],
   "source": [
    "def detail(i,t,d,zz,cells):\n",
    "    print(i,t,d)\n",
    "    for z in zz:\n",
    "        print(z, ' -> ', ' + '.join(\"%d * (%s)\" % (x.element, f[cells[x.index]]) for x in z))"
   ]
  },
  {
   "cell_type": "code",
   "execution_count": 13,
   "metadata": {},
   "outputs": [
    {
     "name": "stdout",
     "output_type": "stream",
     "text": [
      "1 0.10000000149011612 True\n",
      "1*0  ->  1 * (<1> 0)\n",
      "0 0.4000000059604645 True\n",
      "1*0  ->  1 * (<1> 0)\n",
      "1*1  ->  1 * (<0> 0)\n",
      "0 0.6000000238418579 False\n",
      "1*0  ->  1 * (<1> 0)\n",
      "0 0.699999988079071 True\n",
      "1*0  ->  1 * (<1> 0)\n",
      "1*2  ->  1 * (<0> 0)\n",
      "3 0.8999999761581421 True\n",
      "1*0  ->  1 * (<1> 0)\n",
      "1*2  ->  1 * (<0> 0)\n",
      "1*3  ->  1 * (<2> 0)\n",
      "2 0.8999999761581421 True\n",
      "1*0  ->  1 * (<1> 0)\n",
      "1*3  ->  1 * (<2> 0)\n",
      "4 0.8999999761581421 True\n",
      "1*0  ->  1 * (<1> 0)\n",
      "5 0.8999999761581421 True\n",
      "1*0  ->  1 * (<1> 0)\n",
      "1*4 + 1*5 + 1*6  ->  1 * (<0,1> 0) + 1 * (<0,2> 0) + 1 * (<1,2> 0)\n"
     ]
    }
   ],
   "source": [
    "zz, dgms, cells = d.zigzag_homology_persistence(f, times, callback = detail)"
   ]
  },
  {
   "cell_type": "markdown",
   "metadata": {},
   "source": [
    "My Example "
   ]
  },
  {
   "cell_type": "code",
   "execution_count": 14,
   "metadata": {},
   "outputs": [],
   "source": [
    "# Define the simplices across all time steps\n",
    "f = d.Filtration([\n",
    "    [0], [1],                 # Simplices at T0\n",
    "    [0,1],                    # Edge at T0\n",
    "    [2],                      # Vertex at T1\n",
    "    [0,2],                    # Edge at T1\n",
    "    [1,2],                    # Edge at T2\n",
    "    [3],                      # Vertex at T3\n",
    "    [1,3],                    # Edge at T3\n",
    "    [2,3]                     # Edge at T4\n",
    "])\n",
    "\n",
    "# Define the times when simplices are added/removed\n",
    "times = [\n",
    "    [0.1], [0.1],         # Entry times for vertices [0], [1] at T0\n",
    "    [0.1],                # Entry time for edge [0,1] at T0\n",
    "    [0.2],                # Entry time for vertex [2] at T1\n",
    "    [0.2],                # Entry time for edge [0,2] at T1\n",
    "    [0.3],                # Entry time for edge [1,2] at T2\n",
    "    [0.4],                # Entry time for vertex [3] at T3\n",
    "    [0.4],                # Entry time for edge [1,3] at T3\n",
    "    [0.5]                 # Entry time for edge [2,3] at T4\n",
    "]\n",
    "\n",
    "# Compute zigzag persistence\n",
    "zz, dgms, cells = d.zigzag_homology_persistence(f, times)"
   ]
  },
  {
   "cell_type": "code",
   "execution_count": 15,
   "metadata": {},
   "outputs": [
    {
     "data": {
      "image/png": "[encoded data removed]",
      "text/plain": [
       "<Figure size 640x480 with 1 Axes>"
      ]
     },
     "metadata": {},
     "output_type": "display_data"
    }
   ],
   "source": [
    "# plot the persistence diagram\n",
    "d.plot.plot_diagram(dgms[0], show=True)"
   ]
  },
  {
   "cell_type": "code",
   "execution_count": 16,
   "metadata": {},
   "outputs": [
    {
     "data": {
      "image/png": "[encoded data removed]",
      "text/plain": [
       "<Figure size 640x480 with 1 Axes>"
      ]
     },
     "metadata": {},
     "output_type": "display_data"
    }
   ],
   "source": [
    "# plot the persistence diagram\n",
    "d.plot.plot_diagram(dgms[1], show=True)"
   ]
  },
  {
   "cell_type": "code",
   "execution_count": null,
   "metadata": {},
   "outputs": [],
   "source": []
  }
 ],
 "metadata": {
  "kernelspec": {
   "display_name": "pytorch",
   "language": "python",
   "name": "python3"
  },
  "language_info": {
   "codemirror_mode": {
    "name": "ipython",
    "version": 3
   },
   "file_extension": ".py",
   "mimetype": "text/x-python",
   "name": "python",
   "nbconvert_exporter": "python",
   "pygments_lexer": "ipython3",
   "version": "3.11.4"
  }
 },
 "nbformat": 4,
 "nbformat_minor": 2
}
